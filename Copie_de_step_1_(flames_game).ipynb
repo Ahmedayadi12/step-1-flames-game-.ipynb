{
  "nbformat": 4,
  "nbformat_minor": 0,
  "metadata": {
    "colab": {
      "name": "Copie de step 1 (flames game).ipynb",
      "provenance": [],
      "collapsed_sections": []
    },
    "kernelspec": {
      "name": "python3",
      "display_name": "Python 3"
    },
    "language_info": {
      "name": "python"
    }
  },
  "cells": [
    {
      "cell_type": "code",
      "metadata": {
        "id": "Xu6LpGQHeCo_",
        "colab": {
          "base_uri": "https://localhost:8080/"
        },
        "outputId": "a392aef7-fa67-4b18-dc29-ac9dbc5ace9b"
      },
      "source": [
        "# function for removing common characters\n",
        "# with their respective occurrences\n",
        "def remove_match_char(list1, list2):\n",
        " \n",
        "    for i in range(len(list1)) :\n",
        "        for j in range(len(list2)) :\n",
        " \n",
        "            # if common character is found\n",
        "            # then remove that character\n",
        "            # and return list of concatenated\n",
        "            # list with True Flag\n",
        "            if list1[i] == list2[j] :\n",
        "                c = list1[i]\n",
        " \n",
        "                # remove character from the list\n",
        "                list1.remove(c)\n",
        "                list2.remove(c)\n",
        " \n",
        "                # concatenation of two list elements with *\n",
        "                # * is act as border mark here\n",
        "                list3 = list1 + [\"*\"] + list2\n",
        " \n",
        "                # return the concatenated list with True flag\n",
        "                return [list3, True] \n",
        " \n",
        "    # no common characters is found\n",
        "    # return the concatenated list with False flag\n",
        "    list3 = list1 + [\"*\"] + list2\n",
        "    return [list3, False]\n",
        "n1=\"AJAY\"\n",
        "n2=\"PRIYA\"\n",
        "l1=[]\n",
        "l2=[]\n",
        "for i in range(len(n1)):\n",
        "  l1.append(n1[i])\n",
        "for i in range(len(n2)):\n",
        "  l2.append(n2[i])\n",
        "\n",
        "a=0\n",
        "while remove_match_char(l1, l2)[1]==True:\n",
        "  a+=1\n",
        "for i in range(a-1,a):\n",
        "  print(remove_match_char(l1, l2))\n",
        " "
      ],
      "execution_count": null,
      "outputs": [
        {
          "output_type": "stream",
          "text": [
            "[['J', 'A', '*', 'P', 'R', 'I'], False]\n"
          ],
          "name": "stdout"
        }
      ]
    },
    {
      "cell_type": "code",
      "metadata": {
        "id": "KkS1KUfvmcFP"
      },
      "source": [
        ""
      ],
      "execution_count": null,
      "outputs": []
    }
  ]
}